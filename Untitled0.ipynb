{
  "nbformat": 4,
  "nbformat_minor": 0,
  "metadata": {
    "colab": {
      "provenance": []
    },
    "kernelspec": {
      "name": "python3",
      "display_name": "Python 3"
    },
    "language_info": {
      "name": "python"
    }
  },
  "cells": [
    {
      "cell_type": "code",
      "execution_count": null,
      "metadata": {
        "colab": {
          "base_uri": "https://localhost:8080/"
        },
        "id": "6ZuxV4fGaV5D",
        "outputId": "5f0c723c-ecdd-46b4-99b2-6a72f4eb08af"
      },
      "outputs": [
        {
          "output_type": "stream",
          "name": "stdout",
          "text": [
            "Enter price of Item 1: 50\n",
            "Enter price of item 2: 50\n",
            "Enter price of item 3: 50\n",
            "Discount of 10% is provided\n",
            "135.0$\n"
          ]
        }
      ],
      "source": [
        "item1=int(input(\"Enter price of Item 1: \"))\n",
        "item2=int(input(\"Enter price of item 2: \"))\n",
        "item3=int(input(\"Enter price of item 3: \"))\n",
        "total_cost=item1+item2+item3\n",
        "if(total_cost>50):\n",
        "  print(\"Discount of 10% is provided\")\n",
        "  total_cost=total_cost*0.9\n",
        "  print(str(total_cost)+\"$\")\n",
        "else:\n",
        "  print(str(total_cost)+\"$\")"
      ]
    }
  ]
}